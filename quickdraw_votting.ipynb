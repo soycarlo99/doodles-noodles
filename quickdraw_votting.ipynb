{
 "cells": [
  {
   "cell_type": "code",
   "execution_count": 1,
   "id": "5c303a95-94c1-4049-a7a1-7aabc42b0348",
   "metadata": {},
   "outputs": [
    {
     "name": "stdout",
     "output_type": "stream",
     "text": [
      "Data shape: (100000, 784) Labels: (100000,)\n",
      "Logistic Regression Accuracy: 0.9177\n",
      "Random Forest Accuracy: 0.9403\n",
      "Extra Trees Accuracy: 0.9431\n",
      "SVC Accuracy: 0.9567\n",
      "Voting Classifier Accuracy: 0.9496\n",
      "\n",
      "Best model: SVC with accuracy 0.9567\n"
     ]
    },
    {
     "data": {
      "image/png": "[encoded data removed]",
      "text/plain": [
       "<Figure size 640x480 with 2 Axes>"
      ]
     },
     "metadata": {},
     "output_type": "display_data"
    },
    {
     "name": "stdout",
     "output_type": "stream",
     "text": [
      "              precision    recall  f1-score   support\n",
      "\n",
      "        crab       0.94      0.97      0.96     10000\n",
      "        fish       0.97      0.94      0.96     10000\n",
      "\n",
      "    accuracy                           0.96     20000\n",
      "   macro avg       0.96      0.96      0.96     20000\n",
      "weighted avg       0.96      0.96      0.96     20000\n",
      "\n"
     ]
    },
    {
     "data": {
      "text/plain": [
       "['quickdraw_classes_50.joblib']"
      ]
     },
     "execution_count": 1,
     "metadata": {},
     "output_type": "execute_result"
    }
   ],
   "source": [
    "import os\n",
    "import numpy as np\n",
    "import joblib\n",
    "import matplotlib.pyplot as plt\n",
    "from sklearn.svm import SVC\n",
    "from sklearn.model_selection import train_test_split\n",
    "from sklearn.preprocessing import StandardScaler\n",
    "from sklearn.linear_model import LogisticRegression\n",
    "from sklearn.ensemble import RandomForestClassifier, ExtraTreesClassifier, VotingClassifier\n",
    "from sklearn.metrics import confusion_matrix, ConfusionMatrixDisplay, classification_report\n",
    "from sklearn.inspection import permutation_importance\n",
    "\n",
    "# Settings\n",
    "DATA_DIR = \"quickdraw_simplified\"\n",
    "CATEGORIES = [\"crab\", \"fish\"]\n",
    "IMG_SIZE = 28\n",
    "N_PER_CLASS = 50000\n",
    "\n",
    "# Load data from QuickDraw \n",
    "X, y = [], []\n",
    "for idx, category in enumerate(CATEGORIES):\n",
    "    file_path = os.path.join(DATA_DIR, f\"{category}.npy\")\n",
    "    data = np.load(file_path)\n",
    "\n",
    "    #\n",
    "    data = data[:N_PER_CLASS]\n",
    "    \n",
    "    if data.ndim == 3:\n",
    "        data = data.reshape(data.shape[0], -1)\n",
    "\n",
    "    # Normalize\n",
    "    data = data / 255.0\n",
    "\n",
    "    X.append(data)\n",
    "    y.extend([idx] * len(data))\n",
    "\n",
    "# Stack\n",
    "X = np.vstack(X)\n",
    "y = np.array(y)\n",
    "print(\"Data shape:\", X.shape, \"Labels:\", y.shape)\n",
    "\n",
    "# Split and scale\n",
    "X_train, X_test, y_train, y_test = train_test_split(\n",
    "    X, y, test_size=0.2, random_state=42, stratify=y\n",
    ")\n",
    "scaler = StandardScaler()\n",
    "X_train_scaled = scaler.fit_transform(X_train)\n",
    "X_test_scaled = scaler.transform(X_test)\n",
    "\n",
    "# Models\n",
    "models = {\n",
    "    \"Logistic Regression\": LogisticRegression(max_iter=1000, n_jobs=-1),\n",
    "    \"Random Forest\": RandomForestClassifier(n_estimators=1000, random_state=42, n_jobs=-1),\n",
    "    \"Extra Trees\": ExtraTreesClassifier(n_estimators=200, random_state=42, n_jobs=-1),\n",
    "    \"SVC\": SVC(kernel='rbf', random_state=42, probability=True),\n",
    "    \"Voting Classifier\": VotingClassifier([\n",
    "        (\"logreg\", LogisticRegression(max_iter=1000, n_jobs=-1)),\n",
    "        (\"rf\", RandomForestClassifier(n_estimators=1000, random_state=42, n_jobs=-1)),\n",
    "        (\"et\", ExtraTreesClassifier(n_estimators=1000, random_state=42, n_jobs=-1)),\n",
    "        (\"svc\", SVC(kernel='rbf', random_state=42, probability=True))\n",
    "    ], voting=\"soft\", n_jobs=-1)\n",
    "}\n",
    "\n",
    "# Train and evaluate\n",
    "best_name, best_model, best_acc = None, None, 0\n",
    "for name, model in models.items():\n",
    "    model.fit(X_train_scaled, y_train)\n",
    "    score = model.score(X_test_scaled, y_test)\n",
    "    print(f\"{name} Accuracy: {score:.4f}\")\n",
    "    if score > best_acc:\n",
    "        best_name, best_model, best_acc = name, model, score\n",
    "\n",
    "print(f\"\\nBest model: {best_name} with accuracy {best_acc:.4f}\")\n",
    "\n",
    "# Results\n",
    "y_pred = best_model.predict(X_test_scaled)\n",
    "ConfusionMatrixDisplay(confusion_matrix(y_test, y_pred), display_labels=CATEGORIES).plot(cmap=\"Blues\")\n",
    "plt.show()\n",
    "print(classification_report(y_test, y_pred, target_names=CATEGORIES))\n",
    "\n",
    "# Save\n",
    "joblib.dump(best_model, \"quickdraw_model_50.joblib\")\n",
    "joblib.dump(scaler, \"quickdraw_scaler_50.joblib\")\n",
    "joblib.dump(CATEGORIES, \"quickdraw_classes_50.joblib\")"
   ]
  }
 ],
 "metadata": {
  "kernelspec": {
   "display_name": "Python 3 (ipykernel)",
   "language": "python",
   "name": "python3"
  },
  "language_info": {
   "codemirror_mode": {
    "name": "ipython",
    "version": 3
   },
   "file_extension": ".py",
   "mimetype": "text/x-python",
   "name": "python",
   "nbconvert_exporter": "python",
   "pygments_lexer": "ipython3",
   "version": "3.12.9"
  }
 },
 "nbformat": 4,
 "nbformat_minor": 5
}
