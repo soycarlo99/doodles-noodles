{
 "cells": [
  {
   "cell_type": "code",
   "execution_count": 2,
   "id": "5c303a95-94c1-4049-a7a1-7aabc42b0348",
   "metadata": {},
   "outputs": [
    {
     "name": "stdout",
     "output_type": "stream",
     "text": [
      "Data shape: (200, 784) Labels: (200,)\n",
      "Train: (128, 784) Val: (32, 784) Test: (40, 784)\n",
      "Logistic Regression Validation Accuracy: 0.8750\n",
      "Random Forest Validation Accuracy: 0.9375\n",
      "Extra Trees Validation Accuracy: 0.9062\n",
      "SVC Validation Accuracy: 0.9375\n",
      "Voting Classifier Validation Accuracy: 0.9375\n",
      "\n",
      "Best model (val): Random Forest with accuracy 0.9375\n"
     ]
    },
    {
     "data": {
      "image/png": "[encoded data removed]",
      "text/plain": [
       "<Figure size 640x480 with 2 Axes>"
      ]
     },
     "metadata": {},
     "output_type": "display_data"
    },
    {
     "name": "stdout",
     "output_type": "stream",
     "text": [
      "Final Test Report:\n",
      "              precision    recall  f1-score   support\n",
      "\n",
      "        crab       0.76      0.95      0.84        20\n",
      "        fish       0.93      0.70      0.80        20\n",
      "\n",
      "    accuracy                           0.82        40\n",
      "   macro avg       0.85      0.82      0.82        40\n",
      "weighted avg       0.85      0.82      0.82        40\n",
      "\n"
     ]
    },
    {
     "data": {
      "text/plain": [
       "['quickdraw_classes_small.joblib']"
      ]
     },
     "execution_count": 2,
     "metadata": {},
     "output_type": "execute_result"
    }
   ],
   "source": [
    "# Import libraries\n",
    "import os  # For file and path handling\n",
    "import numpy as np\n",
    "import joblib  # Save and load trained models\n",
    "import matplotlib.pyplot as plt\n",
    "from sklearn.svm import SVC\n",
    "from sklearn.model_selection import train_test_split\n",
    "from sklearn.preprocessing import StandardScaler\n",
    "from sklearn.linear_model import LogisticRegression\n",
    "from sklearn.ensemble import RandomForestClassifier, ExtraTreesClassifier, VotingClassifier\n",
    "from sklearn.metrics import confusion_matrix, ConfusionMatrixDisplay, classification_report  # Evaluation metrics\n",
    "\n",
    "\n",
    "\n",
    "# Settings\n",
    "DATA_DIR = \"quickdraw_simplified\"  # Folder with .npy files\n",
    "CATEGORIES = [\"crab\", \"fish\"]  # Classes we want to classify\n",
    "IMG_SIZE = 28  # Image dimension\n",
    "N_PER_CLASS = 100  # Number of samples per class\n",
    "\n",
    "\n",
    "# Load Data\n",
    "X, y = [], []\n",
    "for idx, category in enumerate(CATEGORIES):\n",
    "    file_path = os.path.join(DATA_DIR, f\"{category}.npy\")  # File path for category\n",
    "    data = np.load(file_path)  # Load numpy array of drawings\n",
    "\n",
    "    data = data[:N_PER_CLASS]  # Keep only N_PER_CLASS samples\n",
    "    data = data.reshape(data.shape[0], -1)  # Flatten to (N,784)\n",
    "    data = data / 255.0  # Normalize pixel values to [0,1]\n",
    "\n",
    "    X.append(data)  # Store data\n",
    "    y.extend([idx] * len(data))  # Store labels, 0 for crab, 1 for fish\n",
    "\n",
    "# Merge all categories into one dataset\n",
    "X = np.vstack(X)\n",
    "y = np.array(y)\n",
    "\n",
    "print(\"Data shape:\", X.shape, \"Labels:\", y.shape)\n",
    "\n",
    "\n",
    "\n",
    "# Train/Val/Test Split\n",
    "# rain+val vs test (80/20)\n",
    "X_trainval, X_test, y_trainval, y_test = train_test_split(\n",
    "    X, y, test_size=0.2, random_state=42, stratify=y\n",
    ")\n",
    "\n",
    "# train vs val (from 80%)\n",
    "X_train, X_val, y_train, y_val = train_test_split(\n",
    "    X_trainval, y_trainval, test_size=0.2, random_state=42, stratify=y_trainval\n",
    ")\n",
    "\n",
    "print(\"Train:\", X_train.shape, \"Val:\", X_val.shape, \"Test:\", X_test.shape)\n",
    "\n",
    "\n",
    "\n",
    "# Scaling\n",
    "scaler = StandardScaler()\n",
    "X_train_scaled = scaler.fit_transform(X_train)\n",
    "X_val_scaled = scaler.transform(X_val)\n",
    "X_test_scaled = scaler.transform(X_test)\n",
    "\n",
    "\n",
    "\n",
    "# Define Models\n",
    "models = {\n",
    "    \"Logistic Regression\": LogisticRegression(max_iter=1000, n_jobs=-1),\n",
    "    \"Random Forest\": RandomForestClassifier(n_estimators=1000, random_state=42, n_jobs=-1),\n",
    "    \"Extra Trees\": ExtraTreesClassifier(n_estimators=200, random_state=42, n_jobs=-1),\n",
    "    \"SVC\": SVC(kernel='rbf', random_state=42, probability=True),\n",
    "    \"Voting Classifier\": VotingClassifier([\n",
    "        (\"logreg\", LogisticRegression(max_iter=1000, n_jobs=-1)),\n",
    "        (\"rf\", RandomForestClassifier(n_estimators=1000, random_state=42, n_jobs=-1)),\n",
    "        (\"et\", ExtraTreesClassifier(n_estimators=1000, random_state=42, n_jobs=-1)),\n",
    "        (\"svc\", SVC(kernel='rbf', random_state=42, probability=True))\n",
    "    ], voting=\"soft\", n_jobs=-1)\n",
    "}\n",
    "\n",
    "\n",
    "# Train & Select Best Model\n",
    "best_name, best_model, best_acc = None, None, 0\n",
    "\n",
    "for name, model in models.items():\n",
    "    model.fit(X_train_scaled, y_train)  # Train on train set\n",
    "    score = model.score(X_val_scaled, y_val)  # Validate on val set\n",
    "    print(f\"{name} Validation Accuracy: {score:.4f}\")\n",
    "\n",
    "    if score > best_acc:  # Keep best model\n",
    "        best_name, best_model, best_acc = name, model, score\n",
    "\n",
    "print(f\"\\nBest model (val): {best_name} with accuracy {best_acc:.4f}\")\n",
    "\n",
    "\n",
    "\n",
    "# Final Evaluation on Test Set\n",
    "y_pred = best_model.predict(X_test_scaled)\n",
    "\n",
    "# Confusion Matrix\n",
    "ConfusionMatrixDisplay(confusion_matrix(y_test, y_pred), display_labels=CATEGORIES).plot(cmap=\"Blues\")\n",
    "plt.show()\n",
    "\n",
    "# Classification Report\n",
    "print(\"Final Test Report:\")\n",
    "print(classification_report(y_test, y_pred, target_names=CATEGORIES))\n",
    "\n",
    "\n",
    "\n",
    "# Save Best Model\n",
    "joblib.dump(best_model, \"quickdraw_model_small.joblib\")\n",
    "joblib.dump(scaler, \"quickdraw_scaler_small.joblib\")\n",
    "joblib.dump(CATEGORIES, \"quickdraw_classes_small.joblib\")"
   ]
  }
 ],
 "metadata": {
  "kernelspec": {
   "display_name": "Python 3 (ipykernel)",
   "language": "python",
   "name": "python3"
  },
  "language_info": {
   "codemirror_mode": {
    "name": "ipython",
    "version": 3
   },
   "file_extension": ".py",
   "mimetype": "text/x-python",
   "name": "python",
   "nbconvert_exporter": "python",
   "pygments_lexer": "ipython3",
   "version": "3.11.13"
  }
 },
 "nbformat": 4,
 "nbformat_minor": 5
}
