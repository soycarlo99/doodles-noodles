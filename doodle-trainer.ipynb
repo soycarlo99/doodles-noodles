{
 "cells": [
  {
   "cell_type": "code",
   "execution_count": 12,
   "id": "9945a4c4-4841-4be1-998c-bbc6bc9d6591",
   "metadata": {},
   "outputs": [
    {
     "name": "stdout",
     "output_type": "stream",
     "text": [
      "Data shape: (6000, 784) Labels: (6000,)\n",
      "Logistic Regression Accuracy: 0.9208\n",
      "Random Forest Accuracy: 0.9508\n",
      "Extra Trees Accuracy: 0.9550\n",
      "Voting Classifier Accuracy: 0.9550\n",
      "\n",
      "Best model: Extra Trees with accuracy 0.9550\n"
     ]
    },
    {
     "data": {
      "image/png": "[encoded data removed]",
      "text/plain": [
       "<Figure size 640x480 with 2 Axes>"
      ]
     },
     "metadata": {},
     "output_type": "display_data"
    },
    {
     "name": "stdout",
     "output_type": "stream",
     "text": [
      "              precision    recall  f1-score   support\n",
      "\n",
      "        crab       0.94      0.97      0.96       600\n",
      "         arm       0.97      0.94      0.95       600\n",
      "\n",
      "    accuracy                           0.95      1200\n",
      "   macro avg       0.96      0.96      0.95      1200\n",
      "weighted avg       0.96      0.95      0.95      1200\n",
      "\n"
     ]
    },
    {
     "data": {
      "text/plain": [
       "['doodle_classes.joblib']"
      ]
     },
     "execution_count": 12,
     "metadata": {},
     "output_type": "execute_result"
    }
   ],
   "source": [
    "import os\n",
    "import numpy as np\n",
    "import joblib\n",
    "import matplotlib.pyplot as plt\n",
    "from PIL import Image\n",
    "import glob\n",
    "from sklearn.model_selection import train_test_split\n",
    "from sklearn.preprocessing import StandardScaler\n",
    "from sklearn.linear_model import LogisticRegression\n",
    "from sklearn.ensemble import RandomForestClassifier, ExtraTreesClassifier, VotingClassifier\n",
    "from sklearn.metrics import confusion_matrix, ConfusionMatrixDisplay, classification_report\n",
    "\n",
    "# Settings\n",
    "DATA_DIR = \"doodle\"\n",
    "CATEGORIES = [\"crab\", \"arm\"]\n",
    "IMG_SIZE = 28\n",
    "N_PER_CLASS = 3000\n",
    "\n",
    "# Load data\n",
    "X, y = [], []\n",
    "for idx, category in enumerate(CATEGORIES):\n",
    "    folder = os.path.join(DATA_DIR, category)\n",
    "    files = glob.glob(os.path.join(folder, \"*.png\"))[:N_PER_CLASS]\n",
    "    \n",
    "    for file_path in files:\n",
    "        img = Image.open(file_path).convert('L') #luminance (gray scale)\n",
    "        img = img.resize((IMG_SIZE, IMG_SIZE))\n",
    "        img_array = np.array(img) / 255.0\n",
    "        X.append(img_array.flatten())\n",
    "        y.append(idx)\n",
    "\n",
    "X, y = np.array(X), np.array(y)\n",
    "print(\"Data shape:\", X.shape, \"Labels:\", y.shape)\n",
    "\n",
    "# Split and scale\n",
    "X_train, X_test, y_train, y_test = train_test_split(X, y, test_size=0.2, random_state=42, stratify=y)\n",
    "scaler = StandardScaler()\n",
    "X_train_scaled = scaler.fit_transform(X_train)\n",
    "X_test_scaled = scaler.transform(X_test)\n",
    "\n",
    "# Models\n",
    "models = {\n",
    "    \"Logistic Regression\": LogisticRegression(max_iter=1000, n_jobs=-1),\n",
    "    \"Random Forest\": RandomForestClassifier(n_estimators=1000, random_state=42, n_jobs=-1),\n",
    "    \"Extra Trees\": ExtraTreesClassifier(n_estimators=1000, random_state=42, n_jobs=-1),\n",
    "    \"Voting Classifier\": VotingClassifier([\n",
    "        (\"logreg\", LogisticRegression(max_iter=1000, n_jobs=-1)),\n",
    "        (\"rf\", RandomForestClassifier(n_estimators=1000, random_state=42, n_jobs=-1)),\n",
    "        (\"et\", ExtraTreesClassifier(n_estimators=1000, random_state=42, n_jobs=-1))\n",
    "    ], voting=\"hard\", n_jobs=-1)\n",
    "}\n",
    "\n",
    "# Train and evaluate\n",
    "best_name, best_model, best_acc = None, None, 0\n",
    "for name, model in models.items():\n",
    "    model.fit(X_train_scaled, y_train)\n",
    "    score = model.score(X_test_scaled, y_test)\n",
    "    print(f\"{name} Accuracy: {score:.4f}\")\n",
    "    if score > best_acc:\n",
    "        best_name, best_model, best_acc = name, model, score\n",
    "\n",
    "print(f\"\\nBest model: {best_name} with accuracy {best_acc:.4f}\")\n",
    "\n",
    "# Results\n",
    "y_pred = best_model.predict(X_test_scaled)\n",
    "ConfusionMatrixDisplay(confusion_matrix(y_test, y_pred), display_labels=CATEGORIES).plot(cmap=\"Blues\")\n",
    "plt.show()\n",
    "print(classification_report(y_test, y_pred, target_names=CATEGORIES))\n",
    "\n",
    "# Save\n",
    "joblib.dump(best_model, \"doodle_model.joblib\")\n",
    "joblib.dump(scaler, \"doodle_scaler.joblib\")\n",
    "joblib.dump(CATEGORIES, \"doodle_classes.joblib\")"
   ]
  },
  {
   "cell_type": "code",
   "execution_count": null,
   "id": "a173922d-f547-470d-87c0-bb9e367cbace",
   "metadata": {},
   "outputs": [],
   "source": []
  }
 ],
 "metadata": {
  "kernelspec": {
   "display_name": "Python 3 (ipykernel)",
   "language": "python",
   "name": "python3"
  },
  "language_info": {
   "codemirror_mode": {
    "name": "ipython",
    "version": 3
   },
   "file_extension": ".py",
   "mimetype": "text/x-python",
   "name": "python",
   "nbconvert_exporter": "python",
   "pygments_lexer": "ipython3",
   "version": "3.12.9"
  }
 },
 "nbformat": 4,
 "nbformat_minor": 5
}
